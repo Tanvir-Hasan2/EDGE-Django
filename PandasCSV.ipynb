{
  "nbformat": 4,
  "nbformat_minor": 0,
  "metadata": {
    "colab": {
      "provenance": [],
      "authorship_tag": "ABX9TyN5zO6U87bdjowTZCZujNvd",
      "include_colab_link": true
    },
    "kernelspec": {
      "name": "python3",
      "display_name": "Python 3"
    },
    "language_info": {
      "name": "python"
    }
  },
  "cells": [
    {
      "cell_type": "markdown",
      "metadata": {
        "id": "view-in-github",
        "colab_type": "text"
      },
      "source": [
        "<a href=\"https://colab.research.google.com/github/MostaryKhatun/Python-Practice-Code/blob/main/PandasCSV.ipynb\" target=\"_parent\"><img src=\"https://colab.research.google.com/assets/colab-badge.svg\" alt=\"Open In Colab\"/></a>"
      ]
    },
    {
      "cell_type": "code",
      "execution_count": 4,
      "metadata": {
        "colab": {
          "base_uri": "https://localhost:8080/"
        },
        "id": "cmqZSy_R3Ldy",
        "outputId": "6270d65c-3f82-470f-c65d-2beeca783870"
      },
      "outputs": [
        {
          "output_type": "stream",
          "name": "stdout",
          "text": [
            "   12  23  200  300\n",
            "0  45  56   67   78\n",
            "1  13  34   34   67\n"
          ]
        }
      ],
      "source": [
        "import pandas as pd\n",
        "\n",
        "df = pd.read_csv('data1.csv')\n",
        "\n",
        "print(df)"
      ]
    },
    {
      "cell_type": "code",
      "source": [
        "import pandas as pd\n",
        "\n",
        "df = pd.read_csv('/content/drive/MyDrive/data1.csv')\n",
        "\n",
        "print(df.to_string())"
      ],
      "metadata": {
        "id": "_SwVdJGN98zD",
        "outputId": "e49a5c5a-2470-45bc-87f0-e5faf1258ae0",
        "colab": {
          "base_uri": "https://localhost:8080/"
        }
      },
      "execution_count": 2,
      "outputs": [
        {
          "output_type": "stream",
          "name": "stdout",
          "text": [
            "   12  23  200  300\n",
            "0  45  56   67   78\n",
            "1  13  34   34   67\n"
          ]
        }
      ]
    },
    {
      "cell_type": "code",
      "source": [
        "import pandas as pd\n",
        "import sys\n",
        "!wget https://raw.githubusercontent.com/MostaryKhatun/Python-Practice-Code/refs/heads/main/MostaryMathTest.py\n",
        "sys.path.append('/content')\n",
        "\n",
        "df = pd.read_csv('/content/drive/MyDrive/data1.csv')\n",
        "import MostaryMathTest as zn\n",
        "for i in df:\n",
        "  print(zn.printBigpi(int(i)),end=\"\\n\")\n",
        "  print(i,end=\"\\n\")"
      ],
      "metadata": {
        "colab": {
          "base_uri": "https://localhost:8080/"
        },
        "id": "_7v3JLWJCE2m",
        "outputId": "ac200595-ce73-43a7-f29e-eb248d86e851"
      },
      "execution_count": 14,
      "outputs": [
        {
          "output_type": "stream",
          "name": "stdout",
          "text": [
            "--2024-11-07 06:23:09--  https://raw.githubusercontent.com/MostaryKhatun/Python-Practice-Code/refs/heads/main/MostaryMathTest.py\n",
            "Resolving raw.githubusercontent.com (raw.githubusercontent.com)... 185.199.109.133, 185.199.108.133, 185.199.110.133, ...\n",
            "Connecting to raw.githubusercontent.com (raw.githubusercontent.com)|185.199.109.133|:443... connected.\n",
            "HTTP request sent, awaiting response... 200 OK\n",
            "Length: 256 [text/plain]\n",
            "Saving to: ‘MostaryMathTest.py.2’\n",
            "\n",
            "\rMostaryMathTest.py.   0%[                    ]       0  --.-KB/s               \rMostaryMathTest.py. 100%[===================>]     256  --.-KB/s    in 0s      \n",
            "\n",
            "2024-11-07 06:23:09 (3.43 MB/s) - ‘MostaryMathTest.py.2’ saved [256/256]\n",
            "\n",
            "3.14159265359\n",
            "12\n",
            "3.14159265358979323846264\n",
            "23\n",
            "3.14159265358979323846264338327950288419716939937510582097494459230781640628620899862803482534211706798214808651328230664709384460955058223172535940812848111745028410270193852110555964462294895493038196\n",
            "200\n",
            "3.141592653589793238462643383279502884197169399375105820974944592307816406286208998628034825342117067982148086513282306647093844609550582231725359408128481117450284102701938521105559644622948954930381964428810975665933446128475648233786783165271201909145648566923460348610454326648213393607260249141274\n",
            "300\n"
          ]
        }
      ]
    },
    {
      "cell_type": "code",
      "source": [
        "import pandas as pd\n",
        "import sys\n",
        "!wget https://raw.githubusercontent.com/MostaryKhatun/Python-Practice-Code/refs/heads/main/MostaryMathTest.py\n",
        "sys.path.append('/content')\n",
        "import MostaryMathTest as zn\n",
        "df = pd.read_csv('data1.csv')\n",
        "pi_val_list=[]\n",
        "for i in df:\n",
        "  pi_val_list.append(zn.printBigpi(int(i)))\n",
        "output_df=pd.DataFrame(pi_val_list,columns=[\"PI Val\"])\n",
        "output_df.to_csv('output.csv',index=False)"
      ],
      "metadata": {
        "colab": {
          "base_uri": "https://localhost:8080/"
        },
        "id": "BGxt-Lu6SpWu",
        "outputId": "cc6751be-d995-43d0-bb10-4ce0d515632a"
      },
      "execution_count": 21,
      "outputs": [
        {
          "output_type": "stream",
          "name": "stdout",
          "text": [
            "--2024-11-07 06:27:37--  https://raw.githubusercontent.com/MostaryKhatun/Python-Practice-Code/refs/heads/main/MostaryMathTest.py\n",
            "Resolving raw.githubusercontent.com (raw.githubusercontent.com)... 185.199.108.133, 185.199.109.133, 185.199.110.133, ...\n",
            "Connecting to raw.githubusercontent.com (raw.githubusercontent.com)|185.199.108.133|:443... connected.\n",
            "HTTP request sent, awaiting response... 200 OK\n",
            "Length: 256 [text/plain]\n",
            "Saving to: ‘MostaryMathTest.py.2’\n",
            "\n",
            "\rMostaryMathTest.py.   0%[                    ]       0  --.-KB/s               \rMostaryMathTest.py. 100%[===================>]     256  --.-KB/s    in 0s      \n",
            "\n",
            "2024-11-07 06:27:38 (13.9 MB/s) - ‘MostaryMathTest.py.2’ saved [256/256]\n",
            "\n"
          ]
        }
      ]
    }
  ]
}